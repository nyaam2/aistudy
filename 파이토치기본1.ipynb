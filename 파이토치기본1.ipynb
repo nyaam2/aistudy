{
  "cells": [
    {
      "cell_type": "markdown",
      "metadata": {
        "id": "view-in-github",
        "colab_type": "text"
      },
      "source": [
        "<a href=\"https://colab.research.google.com/github/nyaam2/aistudy/blob/main/%ED%8C%8C%EC%9D%B4%ED%86%A0%EC%B9%98%EA%B8%B0%EB%B3%B81.ipynb\" target=\"_parent\"><img src=\"https://colab.research.google.com/assets/colab-badge.svg\" alt=\"Open In Colab\"/></a>"
      ]
    },
    {
      "cell_type": "code",
      "source": [
        "import torch\n",
        "a=torch.tensor([1,2,3,4])\n",
        "print(a)\n",
        "print(type(a))\n",
        "print(a.shape)\n",
        "\n",
        "b=torch.tensor([1,2,3.1,4])\n",
        "print(b)\n",
        "print(b.dtype)"
      ],
      "metadata": {
        "id": "WhX_1yn2mTdE",
        "outputId": "3e72dc62-6068-452b-b729-0ef241530727",
        "colab": {
          "base_uri": "https://localhost:8080/"
        }
      },
      "execution_count": 3,
      "outputs": [
        {
          "output_type": "stream",
          "name": "stdout",
          "text": [
            "tensor([1, 2, 3, 4])\n",
            "<class 'torch.Tensor'>\n",
            "torch.Size([4])\n",
            "tensor([1.0000, 2.0000, 3.1000, 4.0000])\n",
            "torch.float32\n"
          ]
        }
      ]
    },
    {
      "cell_type": "code",
      "source": [],
      "metadata": {
        "id": "RvQnRW_8nWS9"
      },
      "execution_count": null,
      "outputs": []
    },
    {
      "cell_type": "markdown",
      "source": [],
      "metadata": {
        "id": "6TphbdJtqlHg"
      }
    },
    {
      "cell_type": "code",
      "source": [
        "A=torch.tensor([[1,2,3],[1,2,3]])\n",
        "print(A)\n",
        "print(torch.zeros_like(A))\n",
        "print(torch.ones(5))\n",
        "B=torch.tensor([[1,2,3],[3,4,5]])\n",
        "C=torch.tensor([[4,5,6],[2,3,4]])\n",
        "C=C.reshape(3,2)\n",
        "# print(B*C)\n",
        "print(B@C)"
      ],
      "metadata": {
        "id": "SKfI8LaOnFjF",
        "outputId": "719bb91e-4998-4710-8b18-7140b5415fdf",
        "colab": {
          "base_uri": "https://localhost:8080/"
        }
      },
      "execution_count": 7,
      "outputs": [
        {
          "output_type": "stream",
          "name": "stdout",
          "text": [
            "tensor([[1, 2, 3],\n",
            "        [1, 2, 3]])\n",
            "tensor([[0, 0, 0],\n",
            "        [0, 0, 0]])\n",
            "tensor([1., 1., 1., 1., 1.])\n",
            "tensor([[25, 21],\n",
            "        [51, 43]])\n"
          ]
        }
      ]
    },
    {
      "cell_type": "code",
      "source": [
        "a=torch.tensor([1,2,3,4])\n",
        "print(a[0])\n",
        "print(a[1:])\n",
        "print(a[:2])\n",
        "print(a[:])\n",
        "print(a[-1])"
      ],
      "metadata": {
        "id": "LSEliYcdqkAC",
        "outputId": "a4e8839c-acf2-4932-e3a4-782c57af00a3",
        "colab": {
          "base_uri": "https://localhost:8080/"
        }
      },
      "execution_count": 8,
      "outputs": [
        {
          "output_type": "stream",
          "name": "stdout",
          "text": [
            "tensor(1)\n",
            "tensor([2, 3, 4])\n",
            "tensor([1, 2])\n",
            "tensor([1, 2, 3, 4])\n",
            "tensor(4)\n"
          ]
        }
      ]
    },
    {
      "cell_type": "code",
      "source": [
        "a=torch.tensor([[1,2,3],[4,5,6],[7,8,9]])\n",
        "print(a)\n",
        "print(a[0])\n",
        "print(a[-1])\n",
        "print(a[0,2])\n",
        "print(a[1:])\n",
        "print(a[1,0:3:2])\n",
        "print(a[:,2])\n",
        "print(a[:][2])"
      ],
      "metadata": {
        "id": "1CCDPw7yrI3O",
        "outputId": "e9a701a4-da95-4e17-9414-d4d9cd3fdb86",
        "colab": {
          "base_uri": "https://localhost:8080/"
        }
      },
      "execution_count": 35,
      "outputs": [
        {
          "output_type": "stream",
          "name": "stdout",
          "text": [
            "tensor([[1, 2, 3],\n",
            "        [4, 5, 6],\n",
            "        [7, 8, 9]])\n",
            "tensor([1, 2, 3])\n",
            "tensor([7, 8, 9])\n",
            "tensor(3)\n",
            "tensor([[4, 5, 6],\n",
            "        [7, 8, 9]])\n",
            "tensor([4, 6])\n",
            "tensor([3, 6, 9])\n",
            "tensor([7, 8, 9])\n"
          ]
        }
      ]
    },
    {
      "cell_type": "markdown",
      "source": [
        "고급인덱싱"
      ],
      "metadata": {
        "id": "QJyGgAmInIFr"
      }
    },
    {
      "cell_type": "code",
      "source": [
        "#3차원 행렬 인덱싱\n",
        "A=torch.tensor([[[0,1,2,3],[4,5,6,7],[8,9,10,11]],\n",
        "                [[12,13,14,15],[16,17,18,19],[20,21,22,23]]])\n",
        "print(A)\n",
        "\n",
        "print(A.shape)\n",
        "print(A[0,1,2])\n",
        "print(A)\n",
        "print(A[[0,1,1,0],[0,1,2,1],[3,3,2,1]])\n",
        "\n",
        "# 5개 샘플, 10개 클래스에 대한 softmax 출력\n",
        "logits = torch.randn(5, 10)\n",
        "print(logits)\n",
        "probs = torch.softmax(logits, dim=1)\n",
        "print(probs)\n",
        "# class별 예측 (가장 큰 확률의 index)\n",
        "preds = torch.argmax(probs, dim=1)\n",
        "print(preds)\n",
        "# ground truth label이 있다고 가정\n",
        "labels = torch.tensor([1, 3, 0, 9, 4])\n",
        "\n",
        "# 정답 확률만 추출하고 싶을 때\n",
        "correct_probs = probs[torch.arange(5), labels]\n",
        "print(correct_probs)  # 각 정답 위치에 해당하는 확률\n"
      ],
      "metadata": {
        "id": "hdtvQORmusS-",
        "outputId": "9741f75a-21af-4d1d-c5a7-6872598df53f",
        "colab": {
          "base_uri": "https://localhost:8080/"
        }
      },
      "execution_count": 14,
      "outputs": [
        {
          "output_type": "stream",
          "name": "stdout",
          "text": [
            "tensor([[[ 0,  1,  2,  3],\n",
            "         [ 4,  5,  6,  7],\n",
            "         [ 8,  9, 10, 11]],\n",
            "\n",
            "        [[12, 13, 14, 15],\n",
            "         [16, 17, 18, 19],\n",
            "         [20, 21, 22, 23]]])\n",
            "torch.Size([2, 3, 4])\n",
            "tensor(6)\n",
            "tensor([[[ 0,  1,  2,  3],\n",
            "         [ 4,  5,  6,  7],\n",
            "         [ 8,  9, 10, 11]],\n",
            "\n",
            "        [[12, 13, 14, 15],\n",
            "         [16, 17, 18, 19],\n",
            "         [20, 21, 22, 23]]])\n",
            "tensor([ 3, 19, 22,  5])\n",
            "tensor([[ 2.1646,  0.4356,  1.3134, -0.2635, -0.9145, -1.1514,  1.0202, -0.5666,\n",
            "          0.7352, -0.5082],\n",
            "        [-0.1077, -0.6425, -0.4230, -0.0589, -0.0448, -0.5335,  0.7115, -0.8468,\n",
            "          0.7477, -0.4383],\n",
            "        [-1.2030, -0.9389, -0.3433, -0.7729,  1.3688,  0.1419, -0.3269,  1.1565,\n",
            "         -0.5180, -1.1868],\n",
            "        [-0.8002, -0.7581,  0.5360,  0.1033, -1.2287, -0.8652,  1.1456,  0.2851,\n",
            "         -0.7348, -0.1080],\n",
            "        [-0.2551,  0.7539,  0.2205,  0.1862, -1.1842, -1.2087, -1.1242,  0.2768,\n",
            "          0.2082,  0.2903]])\n",
            "tensor([[0.4054, 0.0719, 0.1731, 0.0358, 0.0186, 0.0147, 0.1291, 0.0264, 0.0971,\n",
            "         0.0280],\n",
            "        [0.0917, 0.0537, 0.0669, 0.0963, 0.0977, 0.0599, 0.2081, 0.0438, 0.2158,\n",
            "         0.0659],\n",
            "        [0.0256, 0.0333, 0.0604, 0.0393, 0.3346, 0.0981, 0.0614, 0.2706, 0.0507,\n",
            "         0.0260],\n",
            "        [0.0436, 0.0455, 0.1659, 0.1076, 0.0284, 0.0409, 0.3053, 0.1291, 0.0466,\n",
            "         0.0871],\n",
            "        [0.0762, 0.2090, 0.1226, 0.1185, 0.0301, 0.0294, 0.0320, 0.1297, 0.1211,\n",
            "         0.1315]])\n",
            "tensor([0, 8, 4, 6, 1])\n",
            "tensor([0.0719, 0.0963, 0.0256, 0.0871, 0.0301])\n"
          ]
        }
      ]
    },
    {
      "cell_type": "markdown",
      "source": [
        "bool 인덱싱"
      ],
      "metadata": {
        "id": "L3xQS3_ymQqh"
      }
    },
    {
      "cell_type": "code",
      "source": [
        "a=[1,2,3,4,5,3,3]\n",
        "print(a==3)\n",
        "a=torch.tensor([1,2,3])\n",
        "print(a==3)\n",
        "\n",
        "a=torch.tensor([[1,2,3,4],[5,3,7,3]])\n",
        "print(a>3)\n",
        "\n",
        "a[a>3]=100\n",
        "print(a)\n",
        "\n",
        "for i in range(a.shape[0]):\n",
        "  for j in range(a.shape[1]):\n",
        "    if a[i,j]>3:\n",
        "      a[i,j]=100\n",
        "\n",
        "a=torch.tensor([[1,2],[3,4],[5,6],[7,8]])\n",
        "b=torch.tensor([True,False,False,True])\n",
        "print(a[b,:])\n",
        "\n",
        "b=torch.tensor([1,2,3,4])\n",
        "print(b[[True,True,False,False]])\n",
        "c=[1,2,3,4]\n",
        "#print(c[[True,True,False,False]])\n",
        "\n"
      ],
      "metadata": {
        "id": "MZ4BnWsWxiDI",
        "outputId": "1fc5338d-5c40-4cc5-d44d-961c49d38686",
        "colab": {
          "base_uri": "https://localhost:8080/"
        }
      },
      "execution_count": 189,
      "outputs": [
        {
          "output_type": "stream",
          "name": "stdout",
          "text": [
            "False\n",
            "tensor([False, False,  True])\n",
            "tensor([[False, False, False,  True],\n",
            "        [ True, False,  True, False]])\n",
            "tensor([[  1,   2,   3, 100],\n",
            "        [100,   3, 100,   3]])\n",
            "tensor([[1, 2],\n",
            "        [7, 8]])\n",
            "tensor([1, 2])\n"
          ]
        }
      ]
    },
    {
      "cell_type": "markdown",
      "metadata": {
        "id": "Wf5KrEb6vrkR"
      },
      "source": [
        "tensor인덱싱"
      ]
    },
    {
      "cell_type": "code",
      "source": [
        "b=torch.tensor([[255,255,0],[0,255,0],[0,0,255],[255,0,255],\n",
        "                [70,80,75],[0,0,4],[60,100,255]])\n",
        "import matplotlib.pyplot as plt\n",
        "c=b[torch.tensor([0,1])]\n",
        "print(c)\n",
        "plt.imshow(c)\n",
        "# plt.imshow(torch.tensor([[[255,0,0],[0,0,255],[0,255,0]]]))\n",
        "print(c)\n",
        "print(c.shape)\n",
        "# print(b[[0,1],[2,4],[0,1],[2,2]])  4차원 인덱싱으로 간주하여 오류가 남\n",
        "print(b[[[[0,1],[2,4]],[[0,1],[2,2]]]])"
      ],
      "metadata": {
        "id": "wCQnLKoy0Di7",
        "outputId": "44bce806-3932-4006-8fe0-e9ea0e2d5cf5",
        "colab": {
          "base_uri": "https://localhost:8080/",
          "height": 521
        }
      },
      "execution_count": 26,
      "outputs": [
        {
          "output_type": "stream",
          "name": "stdout",
          "text": [
            "tensor([[255, 255,   0],\n",
            "        [  0, 255,   0]])\n",
            "tensor([[255, 255,   0],\n",
            "        [  0, 255,   0]])\n",
            "torch.Size([2, 3])\n",
            "tensor([[255, 255],\n",
            "        [255,  75]])\n"
          ]
        },
        {
          "output_type": "display_data",
          "data": {
            "text/plain": [
              "<Figure size 640x480 with 1 Axes>"
            ],
            "image/png": "[encoded data removed]"
          },
          "metadata": {}
        }
      ]
    },
    {
      "cell_type": "code",
      "source": [
        "#도전!\n",
        "a=torch.tensor([[1,2,3],[4,5,6]])\n",
        "print(a)\n",
        "A=a[torch.tensor([[0,1],[1,1]])]\n",
        "print(A.shape)\n",
        "print(A)"
      ],
      "metadata": {
        "id": "_LZCo5OV3lMZ",
        "outputId": "694adcad-dd72-4ad8-ea28-7dd2c6fdf442",
        "colab": {
          "base_uri": "https://localhost:8080/"
        }
      },
      "execution_count": 65,
      "outputs": [
        {
          "output_type": "stream",
          "name": "stdout",
          "text": [
            "tensor([[1, 2, 3],\n",
            "        [4, 5, 6]])\n",
            "torch.Size([2, 2, 3])\n",
            "tensor([[[1, 2, 3],\n",
            "         [4, 5, 6]],\n",
            "\n",
            "        [[4, 5, 6],\n",
            "         [4, 5, 6]]])\n"
          ]
        }
      ]
    },
    {
      "cell_type": "markdown",
      "source": [
        "# 새 섹션"
      ],
      "metadata": {
        "id": "0N01xCUKnLox"
      }
    },
    {
      "cell_type": "markdown",
      "source": [],
      "metadata": {
        "id": "oFsVD92uj-K7"
      }
    },
    {
      "cell_type": "code",
      "source": [
        " A=torch.randn(3,3)\n",
        " print(A)\n",
        " a=torch.rand(3,3)\n",
        " print(a)\n",
        " print(torch.abs(A))\n",
        " print(torch.exp(A))\n",
        " print(torch.log(torch.abs(A)))\n",
        " print(torch.log(torch.exp(torch.tensor(1))))\n",
        " print(torch.round(A,decimals=2))\n",
        " print(torch.floor(A))\n",
        " print(torch.ceil(A))"
      ],
      "metadata": {
        "id": "N1lWfVnj6WA_",
        "outputId": "a0f557ac-ffec-4b52-b919-19adb1bafc7f",
        "colab": {
          "base_uri": "https://localhost:8080/"
        }
      },
      "execution_count": 27,
      "outputs": [
        {
          "output_type": "stream",
          "name": "stdout",
          "text": [
            "tensor([[-0.8609,  0.7810, -1.2892],\n",
            "        [ 0.6079, -1.1774, -0.6863],\n",
            "        [-0.6058,  0.7366,  2.0432]])\n",
            "tensor([[0.3328, 0.9093, 0.3697],\n",
            "        [0.0365, 0.2516, 0.6096],\n",
            "        [0.7327, 0.2078, 0.9321]])\n",
            "tensor([[0.8609, 0.7810, 1.2892],\n",
            "        [0.6079, 1.1774, 0.6863],\n",
            "        [0.6058, 0.7366, 2.0432]])\n",
            "tensor([[0.4228, 2.1836, 0.2755],\n",
            "        [1.8366, 0.3081, 0.5034],\n",
            "        [0.5457, 2.0889, 7.7155]])\n",
            "tensor([[-0.1498, -0.2472,  0.2540],\n",
            "        [-0.4977,  0.1633, -0.3764],\n",
            "        [-0.5013, -0.3057,  0.7145]])\n",
            "tensor(1.)\n",
            "tensor([[-0.8600,  0.7800, -1.2900],\n",
            "        [ 0.6100, -1.1800, -0.6900],\n",
            "        [-0.6100,  0.7400,  2.0400]])\n",
            "tensor([[-1.,  0., -2.],\n",
            "        [ 0., -2., -1.],\n",
            "        [-1.,  0.,  2.]])\n",
            "tensor([[-0.,  1., -1.],\n",
            "        [ 1., -1., -0.],\n",
            "        [-0.,  1.,  3.]])\n"
          ]
        }
      ]
    },
    {
      "cell_type": "markdown",
      "metadata": {
        "id": "Nma_JWh-W-IF"
      },
      "source": [
        "여러가지 함수\n"
      ]
    },
    {
      "cell_type": "code",
      "source": [
        "print(torch.sin(torch.tensor(torch.pi/6)))\n",
        "print(torch.cos(torch.tensor(torch.pi/6)))\n",
        "print(torch.tan(torch.tensor(torch.pi/6)))\n",
        "\n",
        "type(torch.Tensor(1)/6) #float과 tensor가 연산하면 tensor로 바뀜"
      ],
      "metadata": {
        "id": "A4RMjTl0KDjN",
        "outputId": "bbeb1ba9-1a32-4eb3-e180-b737ce01937e",
        "colab": {
          "base_uri": "https://localhost:8080/"
        }
      },
      "execution_count": 106,
      "outputs": [
        {
          "output_type": "stream",
          "name": "stdout",
          "text": [
            "tensor(0.5000)\n",
            "tensor(0.8660)\n",
            "tensor(0.5774)\n"
          ]
        },
        {
          "output_type": "execute_result",
          "data": {
            "text/plain": [
              "torch.Tensor"
            ]
          },
          "metadata": {},
          "execution_count": 106
        }
      ]
    },
    {
      "cell_type": "code",
      "source": [
        "torch.nan\n",
        "print(torch.nan)"
      ],
      "metadata": {
        "id": "qTUn6pQtKiag",
        "outputId": "f66e32e3-353f-4b98-d2d2-f241eb9e0dc0",
        "colab": {
          "base_uri": "https://localhost:8080/"
        }
      },
      "execution_count": 107,
      "outputs": [
        {
          "output_type": "stream",
          "name": "stdout",
          "text": [
            "nan\n"
          ]
        }
      ]
    },
    {
      "cell_type": "code",
      "source": [
        "A=torch.randn(3,4)\n",
        "print(A)\n",
        "print(torch.max(A))\n",
        "print(torch.max(A,dim=0))\n",
        "print(torch.max(A,dim=1))\n",
        "print(torch.max(A,dim=0,keepdims=True))\n",
        "print(torch.argmax(A,dim=0))\n",
        "print(torch.argmax(A,dim=1))"
      ],
      "metadata": {
        "id": "GtEvDyC3LGua",
        "outputId": "41bd9a38-a287-4e7a-d0a7-4aed809a5ba6",
        "colab": {
          "base_uri": "https://localhost:8080/"
        }
      },
      "execution_count": 11,
      "outputs": [
        {
          "output_type": "stream",
          "name": "stdout",
          "text": [
            "tensor([[-1.2013, -1.4537,  1.5324, -1.6255],\n",
            "        [ 1.8760,  0.6290,  0.4283, -1.1029],\n",
            "        [ 1.4691, -1.1033, -1.0636,  0.4071]])\n",
            "tensor(1.8760)\n",
            "torch.return_types.max(\n",
            "values=tensor([1.8760, 0.6290, 1.5324, 0.4071]),\n",
            "indices=tensor([1, 1, 0, 2]))\n",
            "torch.return_types.max(\n",
            "values=tensor([1.5324, 1.8760, 1.4691]),\n",
            "indices=tensor([2, 0, 0]))\n",
            "torch.return_types.max(\n",
            "values=tensor([[1.8760, 0.6290, 1.5324, 0.4071]]),\n",
            "indices=tensor([[1, 1, 0, 2]]))\n",
            "tensor([1, 1, 0, 2])\n",
            "tensor([2, 0, 0])\n"
          ]
        }
      ]
    },
    {
      "cell_type": "code",
      "source": [
        "a=torch.randn(6,2)\n",
        "print(a)\n",
        "a_sorted=torch.sort(a,dim=0)\n",
        "a_sorted2=torch.sort(a,dim=1)\n",
        "print(a_sorted)\n",
        "print(a_sorted2)\n",
        "print(a.sort(dim=0,descending=True))\n",
        "print(a.max())"
      ],
      "metadata": {
        "id": "YViiwOvuNmIG",
        "outputId": "34a961bf-6c39-4fd7-971b-ea0111afecf3",
        "colab": {
          "base_uri": "https://localhost:8080/"
        }
      },
      "execution_count": 181,
      "outputs": [
        {
          "output_type": "stream",
          "name": "stdout",
          "text": [
            "tensor([[ 1.6543, -0.0171],\n",
            "        [-0.2713, -0.1822],\n",
            "        [-0.4673, -0.7514],\n",
            "        [-0.0810, -0.3724],\n",
            "        [-1.3188, -0.6701],\n",
            "        [-0.0688, -1.0283]])\n",
            "torch.return_types.sort(\n",
            "values=tensor([[-1.3188, -1.0283],\n",
            "        [-0.4673, -0.7514],\n",
            "        [-0.2713, -0.6701],\n",
            "        [-0.0810, -0.3724],\n",
            "        [-0.0688, -0.1822],\n",
            "        [ 1.6543, -0.0171]]),\n",
            "indices=tensor([[4, 5],\n",
            "        [2, 2],\n",
            "        [1, 4],\n",
            "        [3, 3],\n",
            "        [5, 1],\n",
            "        [0, 0]]))\n",
            "torch.return_types.sort(\n",
            "values=tensor([[-0.0171,  1.6543],\n",
            "        [-0.2713, -0.1822],\n",
            "        [-0.7514, -0.4673],\n",
            "        [-0.3724, -0.0810],\n",
            "        [-1.3188, -0.6701],\n",
            "        [-1.0283, -0.0688]]),\n",
            "indices=tensor([[1, 0],\n",
            "        [0, 1],\n",
            "        [1, 0],\n",
            "        [1, 0],\n",
            "        [0, 1],\n",
            "        [1, 0]]))\n",
            "torch.return_types.sort(\n",
            "values=tensor([[ 1.6543, -0.0171],\n",
            "        [-0.0688, -0.1822],\n",
            "        [-0.0810, -0.3724],\n",
            "        [-0.2713, -0.6701],\n",
            "        [-0.4673, -0.7514],\n",
            "        [-1.3188, -1.0283]]),\n",
            "indices=tensor([[0, 0],\n",
            "        [5, 1],\n",
            "        [3, 3],\n",
            "        [1, 4],\n",
            "        [2, 2],\n",
            "        [4, 5]]))\n",
            "tensor(1.6543)\n"
          ]
        }
      ]
    },
    {
      "cell_type": "code",
      "source": [],
      "metadata": {
        "id": "AdL01RaAZeKw"
      },
      "execution_count": null,
      "outputs": []
    },
    {
      "cell_type": "markdown",
      "source": [
        "통계치"
      ],
      "metadata": {
        "id": "iHPmREl1OiuO"
      }
    },
    {
      "cell_type": "code",
      "source": [
        "A=torch.randn(3,4)\n",
        "print(A)\n",
        "print(torch.sum(A))\n",
        "print(torch.sum(A,dim=1))\n",
        "print(torch.sum(A,dim=1,keepdims=True))\n",
        "print(torch.sum(A,dim=0,keepdims=True))\n",
        "print(torch.mean(A))\n",
        "print(torch.mean(A,dim=1))\n",
        "print(torch.mean(A,dim=1,keepdims=True))\n",
        "\n",
        "\n",
        "print(A.sum(dim=1,keepdims=True))"
      ],
      "metadata": {
        "id": "m2_5ZQN8OiPv",
        "outputId": "1406a744-460a-4920-f5e7-7fa70bfc0b01",
        "colab": {
          "base_uri": "https://localhost:8080/"
        }
      },
      "execution_count": 177,
      "outputs": [
        {
          "output_type": "stream",
          "name": "stdout",
          "text": [
            "tensor([[-0.1466,  0.8633, -1.2972,  0.2729],\n",
            "        [ 0.4283,  0.4836, -3.0420, -0.4341],\n",
            "        [ 1.3960,  0.2197, -1.3993,  0.9966]])\n",
            "tensor(-1.6588)\n",
            "tensor([-0.3076, -2.5642,  1.2130])\n",
            "tensor([[-0.3076],\n",
            "        [-2.5642],\n",
            "        [ 1.2130]])\n",
            "tensor([[ 1.6777,  1.5666, -5.7386,  0.8354]])\n",
            "tensor(-0.1382)\n",
            "tensor([-0.0769, -0.6411,  0.3032])\n",
            "tensor([[-0.0769],\n",
            "        [-0.6411],\n",
            "        [ 0.3032]])\n",
            "tensor([[-0.3076],\n",
            "        [-2.5642],\n",
            "        [ 1.2130]])\n"
          ]
        }
      ]
    },
    {
      "cell_type": "markdown",
      "source": [
        "reshape"
      ],
      "metadata": {
        "id": "tusBcKzYQZvQ"
      }
    },
    {
      "cell_type": "code",
      "source": [
        "A=torch.randint(1,5,size=(12,))\n",
        "print(A)\n",
        "print(A.shape)\n",
        "\n",
        "B=A.reshape(2,2,3)\n",
        "print(B)\n",
        "print(B.ndim)\n",
        "\n"
      ],
      "metadata": {
        "id": "p6f1HOM3QZh_",
        "outputId": "9ffa3e4c-d286-4b38-8aa2-0b1670c477bd",
        "colab": {
          "base_uri": "https://localhost:8080/"
        }
      },
      "execution_count": 178,
      "outputs": [
        {
          "output_type": "stream",
          "name": "stdout",
          "text": [
            "tensor([2, 4, 4, 4, 3, 4, 2, 2, 4, 1, 1, 4])\n",
            "torch.Size([12])\n",
            "tensor([[[2, 4, 4],\n",
            "         [4, 3, 4]],\n",
            "\n",
            "        [[2, 2, 4],\n",
            "         [1, 1, 4]]])\n",
            "3\n"
          ]
        }
      ]
    },
    {
      "cell_type": "code",
      "source": [
        "A=torch.arange(20,)\n",
        "print(A)\n",
        "print(A.reshape(4,-1).shape) #-1 : 알아서 채워줘\n",
        "print(A.reshape(4,-1))\n",
        "print(A.reshape(2,5,-1).shape)\n",
        "print(A.reshape(2,-1,5).shape)\n",
        "print(A.reshape(1,-1).shape)\n",
        "print(A.reshape(-1,1).shape)"
      ],
      "metadata": {
        "id": "qQWxEek9RVN-",
        "outputId": "1228278f-920f-4325-bd06-90b7d83cc8ff",
        "colab": {
          "base_uri": "https://localhost:8080/"
        }
      },
      "execution_count": 153,
      "outputs": [
        {
          "output_type": "stream",
          "name": "stdout",
          "text": [
            "tensor([ 0,  1,  2,  3,  4,  5,  6,  7,  8,  9, 10, 11, 12, 13, 14, 15, 16, 17,\n",
            "        18, 19])\n",
            "torch.Size([4, 5])\n",
            "tensor([[ 0,  1,  2,  3,  4],\n",
            "        [ 5,  6,  7,  8,  9],\n",
            "        [10, 11, 12, 13, 14],\n",
            "        [15, 16, 17, 18, 19]])\n",
            "torch.Size([2, 5, 2])\n",
            "torch.Size([2, 2, 5])\n",
            "torch.Size([1, 20])\n",
            "torch.Size([20, 1])\n"
          ]
        }
      ]
    },
    {
      "cell_type": "markdown",
      "source": [
        "reshape 응용"
      ],
      "metadata": {
        "id": "0sYDgErsSli-"
      }
    },
    {
      "cell_type": "code",
      "source": [
        "a=torch.tensor([1,2,3])\n",
        "b=torch.tensor([2,2,1])\n",
        "c=torch.tensor([[[1,2,3],[1,2,3]]])\n",
        "print(c)\n",
        "c=c.reshape(2,3,1)\n",
        "print(c)\n",
        "print(a*b)\n",
        "print(torch.sum(a*b))\n",
        "a=a.reshape(3,1)\n",
        "print(a)\n",
        "b=b.reshape(1,3)\n",
        "# print(b@a)\n",
        "b=b.reshape(3,1)\n",
        "print(a.transpose(1,0)@b)\n",
        "print(a.permute(1,0))"
      ],
      "metadata": {
        "id": "N1QqxdBsSk75",
        "outputId": "19ac6e3f-5e26-4a7e-ccc4-515dda7af7ab",
        "colab": {
          "base_uri": "https://localhost:8080/"
        }
      },
      "execution_count": 173,
      "outputs": [
        {
          "output_type": "stream",
          "name": "stdout",
          "text": [
            "tensor([[[1, 2, 3],\n",
            "         [1, 2, 3]]])\n",
            "tensor([[[1],\n",
            "         [2],\n",
            "         [3]],\n",
            "\n",
            "        [[1],\n",
            "         [2],\n",
            "         [3]]])\n",
            "tensor([2, 4, 3])\n",
            "tensor(9)\n",
            "tensor([[1],\n",
            "        [2],\n",
            "        [3]])\n",
            "tensor([[9]])\n",
            "tensor([[1, 2, 3]])\n"
          ]
        }
      ]
    },
    {
      "cell_type": "code",
      "source": [
        "x=torch.randn(2,3,4,5,6)\n",
        "print(x[1,2,:,:,:].shape)\n",
        "print(x[1,2,...].shape)\n",
        "print(x[:,:,:,:,3].shape)\n",
        "print(x[...,3].shape)\n",
        "print(x[1,:,:,3,:].shape)\n",
        "print(x[1,...,3,:].shape)\n"
      ],
      "metadata": {
        "id": "Z-kySY-tFk_M",
        "outputId": "7d432507-cc94-4c97-d089-5ad6b14a740a",
        "colab": {
          "base_uri": "https://localhost:8080/"
        }
      },
      "execution_count": 85,
      "outputs": [
        {
          "output_type": "stream",
          "name": "stdout",
          "text": [
            "torch.Size([4, 5, 6])\n",
            "torch.Size([4, 5, 6])\n",
            "torch.Size([2, 3, 4, 5])\n",
            "torch.Size([2, 3, 4, 5])\n",
            "torch.Size([3, 4, 6])\n",
            "torch.Size([3, 4, 6])\n"
          ]
        }
      ]
    },
    {
      "cell_type": "code",
      "source": [
        "A=torch.ones(3,4)\n",
        "print(A)\n",
        "B=torch.zeros(3,4)\n",
        "print(B)\n",
        "C=torch.vstack([A,B])\n",
        "print(C)\n",
        "D=torch.hstack([A,B])\n",
        "print(D)\n",
        "E=torch.cat([A,B],dim=0)\n",
        "print(E)\n",
        "F=torch.cat([A,B],dim=1)\n",
        "print(F)"
      ],
      "metadata": {
        "id": "q88GcswRGwW0",
        "outputId": "c7dac1f5-b889-469b-9b5a-6f420bb4eca1",
        "colab": {
          "base_uri": "https://localhost:8080/"
        }
      },
      "execution_count": 55,
      "outputs": [
        {
          "output_type": "stream",
          "name": "stdout",
          "text": [
            "tensor([[1., 1., 1., 1.],\n",
            "        [1., 1., 1., 1.],\n",
            "        [1., 1., 1., 1.]])\n",
            "tensor([[0., 0., 0., 0.],\n",
            "        [0., 0., 0., 0.],\n",
            "        [0., 0., 0., 0.]])\n",
            "tensor([[1., 1., 1., 1.],\n",
            "        [1., 1., 1., 1.],\n",
            "        [1., 1., 1., 1.],\n",
            "        [0., 0., 0., 0.],\n",
            "        [0., 0., 0., 0.],\n",
            "        [0., 0., 0., 0.]])\n",
            "tensor([[1., 1., 1., 1., 0., 0., 0., 0.],\n",
            "        [1., 1., 1., 1., 0., 0., 0., 0.],\n",
            "        [1., 1., 1., 1., 0., 0., 0., 0.]])\n",
            "tensor([[1., 1., 1., 1.],\n",
            "        [1., 1., 1., 1.],\n",
            "        [1., 1., 1., 1.],\n",
            "        [0., 0., 0., 0.],\n",
            "        [0., 0., 0., 0.],\n",
            "        [0., 0., 0., 0.]])\n",
            "tensor([[1., 1., 1., 1., 0., 0., 0., 0.],\n",
            "        [1., 1., 1., 1., 0., 0., 0., 0.],\n",
            "        [1., 1., 1., 1., 0., 0., 0., 0.]])\n"
          ]
        }
      ]
    },
    {
      "cell_type": "code",
      "source": [
        "A=torch.randn(1,1,1,3,1,1,1,4,1,1,1)\n",
        "print(A.shape)\n",
        "print(A.squeeze().shape)\n",
        "print(A.squeeze(dim=(0,2,4,5)).shape)"
      ],
      "metadata": {
        "id": "TO6WVqudIOPv",
        "outputId": "b373bcae-19f1-4750-8aa0-0e79faa456a5",
        "colab": {
          "base_uri": "https://localhost:8080/"
        }
      },
      "execution_count": 57,
      "outputs": [
        {
          "output_type": "stream",
          "name": "stdout",
          "text": [
            "torch.Size([1, 1, 1, 3, 1, 1, 1, 4, 1, 1, 1])\n",
            "torch.Size([3, 4])\n",
            "torch.Size([1, 3, 1, 4, 1, 1, 1])\n"
          ]
        }
      ]
    },
    {
      "cell_type": "code",
      "source": [
        "A=torch.randn(3,4)\n",
        "print(A.unsqueeze(dim=0).shape)\n",
        "print(A.unsqueeze(dim=1).shape)\n",
        "print(A.unsqueeze(dim=2).shape)\n",
        "\n",
        "print(A.reshape(1,3,4).shape)\n",
        "print(A.reshape(3,1,4).shape)\n",
        "print(A.reshape(3,4,1).shape)\n"
      ],
      "metadata": {
        "id": "uH7t2T5FIw9T",
        "outputId": "19505547-1f5c-4f5d-8e32-abc8e96aa143",
        "colab": {
          "base_uri": "https://localhost:8080/"
        }
      },
      "execution_count": 63,
      "outputs": [
        {
          "output_type": "stream",
          "name": "stdout",
          "text": [
            "torch.Size([1, 3, 4])\n",
            "torch.Size([3, 1, 4])\n",
            "torch.Size([3, 4, 1])\n",
            "torch.Size([1, 3, 4])\n",
            "torch.Size([3, 1, 4])\n",
            "torch.Size([3, 4, 1])\n"
          ]
        }
      ]
    },
    {
      "cell_type": "code",
      "source": [
        "A=torch.ones(3,4)\n",
        "B=torch.zeros(3,4)\n",
        "A=A.unsqueeze(dim=0)\n",
        "B=B.unsqueeze(dim=0)\n",
        "C=torch.cat((A,B),dim=0)\n",
        "print(C)\n",
        "print(C.shape)\n"
      ],
      "metadata": {
        "id": "PqQHdo2FJbXK",
        "outputId": "a2a49fe8-50bb-49ca-9bc5-45956be93f16",
        "colab": {
          "base_uri": "https://localhost:8080/"
        }
      },
      "execution_count": 65,
      "outputs": [
        {
          "output_type": "stream",
          "name": "stdout",
          "text": [
            "tensor([[[1., 1., 1., 1.],\n",
            "         [1., 1., 1., 1.],\n",
            "         [1., 1., 1., 1.]],\n",
            "\n",
            "        [[0., 0., 0., 0.],\n",
            "         [0., 0., 0., 0.],\n",
            "         [0., 0., 0., 0.]]])\n",
            "torch.Size([2, 3, 4])\n"
          ]
        }
      ]
    },
    {
      "cell_type": "markdown",
      "metadata": {
        "id": "5fCEDCU_qrC0"
      },
      "source": []
    },
    {
      "cell_type": "markdown",
      "metadata": {
        "id": "GJBs_flRovLc"
      },
      "source": []
    },
    {
      "cell_type": "code",
      "execution_count": 67,
      "metadata": {
        "id": "gJr_9dXGpJ05",
        "outputId": "592e31c5-c9bd-4797-cc71-b2f3fd042da3",
        "colab": {
          "base_uri": "https://localhost:8080/"
        }
      },
      "outputs": [
        {
          "output_type": "stream",
          "name": "stdout",
          "text": [
            "tensor([[[1., 1., 1., 1.],\n",
            "         [1., 1., 1., 1.],\n",
            "         [1., 1., 1., 1.]],\n",
            "\n",
            "        [[0., 0., 0., 0.],\n",
            "         [0., 0., 0., 0.],\n",
            "         [0., 0., 0., 0.]]])\n"
          ]
        }
      ],
      "source": [
        "A=torch.ones(3,4)\n",
        "B=torch.zeros(3,4)\n",
        "C=torch.stack([A,B])\n",
        "print(C)\n",
        "#unsqueeze 안하고 stack으로 하면 되긴 함. (차원을 추가(default는 dim=0에)해서 쌓아줌)\n",
        "#근데 차원을 추가해서 쌓는 방식이다보니 A,B shape이 완전히 일치해야 함. concat은 달라도 쌓을 차원 이외 차원들만 맞으면 됨.\n"
      ]
    },
    {
      "cell_type": "markdown",
      "source": [
        "# 새 섹션"
      ],
      "metadata": {
        "id": "chkFRKq1j2iW"
      }
    },
    {
      "cell_type": "markdown",
      "metadata": {
        "id": "2fhs6GZ4qFMx"
      },
      "source": []
    },
    {
      "cell_type": "code",
      "execution_count": 69,
      "metadata": {
        "id": "-gE-Ez1qtyIA",
        "outputId": "50652dd7-10b6-42f9-92b8-caec6e56be23",
        "colab": {
          "base_uri": "https://localhost:8080/"
        }
      },
      "outputs": [
        {
          "output_type": "stream",
          "name": "stdout",
          "text": [
            "tensor([[100,   2],\n",
            "        [  3,   4]])\n",
            "tensor([[1, 2],\n",
            "        [3, 4]])\n"
          ]
        }
      ],
      "source": [
        "A=torch.tensor([[1,2],[3,4]])\n",
        "B=A.clone() #만약 clone을 해주지 않으면 주소값을 전달하게 됨.\n",
        "B[0,0]=100\n",
        "print(B)\n",
        "print(A)"
      ]
    },
    {
      "cell_type": "markdown",
      "metadata": {
        "id": "lSrWNr3MuFUS"
      },
      "source": []
    },
    {
      "cell_type": "code",
      "source": [
        "A=torch.randn(5,7)\n",
        "B=torch.randn(7,10)\n",
        "C=A@B\n",
        "print(C.shape)\n",
        "\n",
        "A=torch.randn(32,5,7)\n",
        "B=torch.randn(32,7,10)\n",
        "C=A@B\n",
        "print(C.shape)"
      ],
      "metadata": {
        "id": "cEJiIULVLOCc",
        "outputId": "fe3b31c6-c39a-4d10-f9bd-a1cc1df55acd",
        "colab": {
          "base_uri": "https://localhost:8080/"
        }
      },
      "execution_count": 73,
      "outputs": [
        {
          "output_type": "stream",
          "name": "stdout",
          "text": [
            "torch.Size([5, 10])\n",
            "torch.Size([32, 5, 10])\n"
          ]
        }
      ]
    },
    {
      "cell_type": "code",
      "source": [
        "A=torch.randn(32,5,7)\n",
        "B=torch.randn(7,10)\n",
        "\n",
        "C=A@B\n",
        "\n",
        "print(C.shape)\n"
      ],
      "metadata": {
        "id": "8n3nWL1qL580",
        "outputId": "beda233a-ee2b-4a02-a32f-e8d6b174df8e",
        "colab": {
          "base_uri": "https://localhost:8080/"
        }
      },
      "execution_count": 74,
      "outputs": [
        {
          "output_type": "stream",
          "name": "stdout",
          "text": [
            "torch.Size([32, 5, 10])\n"
          ]
        }
      ]
    },
    {
      "cell_type": "code",
      "source": [
        "import numpy as np\n",
        "import torch\n",
        "\n",
        "a=np.array([1,2,3])\n",
        "b=torch.tensor([1,2,3])\n",
        "A=torch.tensor(a)\n",
        "#A=torch.from_numpy(a)\n",
        "B=b.numpy()\n",
        "#B=np.array(b)\n",
        "print(type(A))\n",
        "print(type(B))"
      ],
      "metadata": {
        "id": "JDbvep5ZMRbo",
        "outputId": "d37dd087-8c92-4276-dc1e-07f347d21349",
        "colab": {
          "base_uri": "https://localhost:8080/"
        }
      },
      "execution_count": 79,
      "outputs": [
        {
          "output_type": "stream",
          "name": "stdout",
          "text": [
            "<class 'torch.Tensor'>\n",
            "<class 'numpy.ndarray'>\n"
          ]
        }
      ]
    },
    {
      "cell_type": "code",
      "source": [
        "x=torch.tensor([1.],requires_grad=True)\n",
        "print(x)\n",
        "x.requires_grad=True\n",
        "print(x.requires_grad)"
      ],
      "metadata": {
        "id": "kkKATztMWcc_",
        "outputId": "f3f28421-00d1-4b25-f6a3-71ba7481aedc",
        "colab": {
          "base_uri": "https://localhost:8080/"
        }
      },
      "execution_count": 88,
      "outputs": [
        {
          "output_type": "stream",
          "name": "stdout",
          "text": [
            "tensor([1.], requires_grad=True)\n",
            "True\n"
          ]
        }
      ]
    },
    {
      "cell_type": "code",
      "source": [
        "x=torch.tensor([1.],requires_grad=True)\n",
        "y=x**2\n",
        "print(y)\n",
        "\n",
        "print(x.grad)\n",
        "y.backward()\n",
        "print(x.grad)"
      ],
      "metadata": {
        "id": "_C6YWv9uW2Fb",
        "outputId": "1e069d54-c4ff-4b67-c50c-71fd3441c442",
        "colab": {
          "base_uri": "https://localhost:8080/"
        }
      },
      "execution_count": 94,
      "outputs": [
        {
          "output_type": "stream",
          "name": "stdout",
          "text": [
            "tensor([1.], grad_fn=<PowBackward0>)\n",
            "None\n",
            "tensor([2.])\n"
          ]
        }
      ]
    },
    {
      "cell_type": "code",
      "source": [
        "x=torch.tensor([1.],requires_grad=True)\n",
        "y=x**2\n",
        "print(y)\n",
        "y.retain_grad()\n",
        "z=3*y\n",
        "print(z)\n",
        "\n",
        "z.backward()\n",
        "print(x.grad)\n",
        "print(y.grad)"
      ],
      "metadata": {
        "id": "otgST3I6Ym-R",
        "outputId": "ef0cdd75-5c2c-4f16-a9f9-68f95d9dbc8b",
        "colab": {
          "base_uri": "https://localhost:8080/"
        }
      },
      "execution_count": 100,
      "outputs": [
        {
          "output_type": "stream",
          "name": "stdout",
          "text": [
            "tensor([1.], grad_fn=<PowBackward0>)\n",
            "tensor([3.], grad_fn=<MulBackward0>)\n",
            "tensor([6.])\n",
            "tensor([3.])\n"
          ]
        }
      ]
    },
    {
      "cell_type": "code",
      "source": [
        "x=torch.tensor([1.],requires_grad=True)\n",
        "y=x**2\n",
        "z=3*y\n",
        "\n",
        "\n",
        "y.backward()\n",
        "print(x.grad)"
      ],
      "metadata": {
        "id": "SQsRltpDaHRp",
        "outputId": "07e410a7-c200-49ca-81fa-e2940309aac3",
        "colab": {
          "base_uri": "https://localhost:8080/"
        }
      },
      "execution_count": 101,
      "outputs": [
        {
          "output_type": "stream",
          "name": "stdout",
          "text": [
            "tensor([2.])\n"
          ]
        }
      ]
    },
    {
      "cell_type": "markdown",
      "source": [],
      "metadata": {
        "id": "I6SIhcXDWm6V"
      }
    },
    {
      "cell_type": "code",
      "source": [
        "x=torch.tensor([1.],requires_grad=True)\n",
        "a=x**2\n",
        "b=a+1\n",
        "print(b)\n",
        "c=b**2\n",
        "c.backward()\n",
        "print(x.grad)"
      ],
      "metadata": {
        "id": "2h8PCf3MaR65",
        "outputId": "25b9ce9e-1e41-4fde-a638-b252524e95b1",
        "colab": {
          "base_uri": "https://localhost:8080/"
        }
      },
      "execution_count": 102,
      "outputs": [
        {
          "output_type": "stream",
          "name": "stdout",
          "text": [
            "tensor([2.], grad_fn=<AddBackward0>)\n",
            "tensor([8.])\n"
          ]
        }
      ]
    },
    {
      "cell_type": "code",
      "source": [
        "x=torch.tensor([1.],requires_grad=True)\n",
        "y=torch.tensor([1.],requires_grad=True)\n",
        "z=2*x**2+y**2\n",
        "print(z)\n",
        "z.backward()\n",
        "print(x.grad)\n",
        "print(y.grad)"
      ],
      "metadata": {
        "id": "Ah_iVBc7bWJL",
        "outputId": "903b73c2-92a7-4cbc-e78c-0b722f173cd7",
        "colab": {
          "base_uri": "https://localhost:8080/"
        }
      },
      "execution_count": 103,
      "outputs": [
        {
          "output_type": "stream",
          "name": "stdout",
          "text": [
            "tensor([3.], grad_fn=<AddBackward0>)\n",
            "tensor([4.])\n",
            "tensor([2.])\n"
          ]
        }
      ]
    },
    {
      "cell_type": "code",
      "source": [
        "x=torch.tensor([1.],requires_grad=True)\n",
        "y=torch.tensor([1.],requires_grad=True)\n",
        "z=y*x**2\n",
        "z.backward()\n",
        "print(x.grad)\n",
        "print(y.grad)"
      ],
      "metadata": {
        "id": "Q9TeuPK6b10X",
        "outputId": "18e3b3fc-b16d-4ccc-c30f-cbc3aceffe03",
        "colab": {
          "base_uri": "https://localhost:8080/"
        }
      },
      "execution_count": 104,
      "outputs": [
        {
          "output_type": "stream",
          "name": "stdout",
          "text": [
            "tensor([2.])\n",
            "tensor([1.])\n"
          ]
        }
      ]
    },
    {
      "cell_type": "code",
      "source": [
        "x=torch.tensor([1.,2.,3.],requires_grad=True)\n",
        "y=torch.sum(x**2)\n",
        "y.backward()\n",
        "\n",
        "print(y)\n",
        "print(x.grad)"
      ],
      "metadata": {
        "id": "sxf30TTvcJMR",
        "outputId": "64dd5c67-ea3f-4dd8-9f87-8fc830a5ef1d",
        "colab": {
          "base_uri": "https://localhost:8080/"
        }
      },
      "execution_count": 105,
      "outputs": [
        {
          "output_type": "stream",
          "name": "stdout",
          "text": [
            "tensor(14., grad_fn=<SumBackward0>)\n",
            "tensor([2., 4., 6.])\n"
          ]
        }
      ]
    },
    {
      "cell_type": "markdown",
      "source": [
        "transfer learning할 때, 중간에 requirees_grad=False로 하기도 함\n"
      ],
      "metadata": {
        "id": "nIvHzWa-dJbu"
      }
    },
    {
      "cell_type": "code",
      "source": [
        "x=torch.tensor([1.],requires_grad=True)\n",
        "x.requires_grad=False\n",
        "y=x**2\n",
        "print(y)\n"
      ],
      "metadata": {
        "id": "bInKcFI-cs-f",
        "outputId": "436b2586-cc3e-4c6e-bc19-c0578daab08c",
        "colab": {
          "base_uri": "https://localhost:8080/"
        }
      },
      "execution_count": 108,
      "outputs": [
        {
          "output_type": "stream",
          "name": "stdout",
          "text": [
            "tensor([1.])\n"
          ]
        }
      ]
    },
    {
      "cell_type": "markdown",
      "source": [
        "detach()"
      ],
      "metadata": {
        "id": "g7GY6e9LeHOK"
      }
    },
    {
      "cell_type": "code",
      "source": [
        "x=torch.tensor([2.],requires_grad=True)\n",
        "x2=x.detach() #detach()는 requires_grad=False인 새로운 텐서를 만드는 것\n",
        "print(x)\n",
        "print(x2)\n",
        "y=x**2\n",
        "print(y)\n",
        "y.backward()\n",
        "print(x.grad)\n",
        "y2=x2**2\n",
        "\n",
        "print(y2)"
      ],
      "metadata": {
        "id": "U4_qeEBBdcOp",
        "outputId": "e7b22e87-48dc-4298-fe3d-b393040b32a9",
        "colab": {
          "base_uri": "https://localhost:8080/"
        }
      },
      "execution_count": 115,
      "outputs": [
        {
          "output_type": "stream",
          "name": "stdout",
          "text": [
            "tensor([2.], requires_grad=True)\n",
            "tensor([2.])\n",
            "tensor([4.], grad_fn=<PowBackward0>)\n",
            "tensor([4.])\n",
            "tensor([4.])\n"
          ]
        }
      ]
    },
    {
      "cell_type": "code",
      "source": [
        "#detach 사용 용도\n",
        "x=torch.tensor([1.],requires_grad=True)\n",
        "y=x**2\n",
        "z=y.detach() # x로 만든 것을 상수로 사용하고 싶은 것. y.requires_grad=False 뭐 이런 식으로 중간에 상수로 바꿀 수는 없다\n",
        "\n",
        " #detach()는 requires_grad=False인 새로운 텐서를 만드는 것\n",
        "print(z)\n",
        "w=y+z #x**2+1과 같다\n",
        "print(w)\n",
        "\n",
        "w.backward()\n",
        "print(x.grad)"
      ],
      "metadata": {
        "id": "qtm-fBHZec8X",
        "outputId": "64bdfac2-2291-40f4-8651-8ee7c9906d4a",
        "colab": {
          "base_uri": "https://localhost:8080/"
        }
      },
      "execution_count": 118,
      "outputs": [
        {
          "output_type": "stream",
          "name": "stdout",
          "text": [
            "tensor([1.])\n",
            "tensor([2.], grad_fn=<AddBackward0>)\n",
            "tensor([2.])\n"
          ]
        }
      ]
    },
    {
      "cell_type": "code",
      "source": [
        "#많이 쓰이는 torch.no_grad\n",
        "x=torch.tensor([1.],requires_grad=True)\n",
        "#chain rule을 위해 계속 grad_fn을 update 하니까 grad_fn 잠시 계산하고 싶지 않을 때, torch.no_grad\n",
        "#모델 테스트 시에는 불필요하게 메모리 쓸 필요 없기 때문\n",
        "with torch.no_grad():\n",
        "  y=x**2\n",
        "  print(x.requires_grad)\n",
        "  print(y)# with 안에서 계산되는 애는 grad_fn이 안 붙음\n",
        "print(x.requires_grad)\n",
        "y=x**2\n",
        "print(y)\n",
        "\n",
        "x=torch.tensor([1.],requires_grad=True)\n",
        "x.requires_grad=False\n",
        "y=x**2\n",
        "print(x.requires_grad)\n",
        "print(y)"
      ],
      "metadata": {
        "id": "3LhlEgDzfni3",
        "outputId": "3eab6ff2-b520-41e8-81eb-09269647d036",
        "colab": {
          "base_uri": "https://localhost:8080/"
        }
      },
      "execution_count": 123,
      "outputs": [
        {
          "output_type": "stream",
          "name": "stdout",
          "text": [
            "True\n",
            "tensor([1.])\n",
            "True\n",
            "tensor([1.], grad_fn=<PowBackward0>)\n",
            "False\n",
            "tensor([1.])\n"
          ]
        }
      ]
    },
    {
      "cell_type": "code",
      "source": [
        "!pip install torchviz\n",
        "from torchviz import make_dot\n"
      ],
      "metadata": {
        "id": "ZYwAw5jtg9tY",
        "outputId": "7ef7a965-b146-4a56-cdbc-cb0525413c3c",
        "colab": {
          "base_uri": "https://localhost:8080/"
        }
      },
      "execution_count": 124,
      "outputs": [
        {
          "output_type": "stream",
          "name": "stdout",
          "text": [
            "Collecting torchviz\n",
            "  Downloading torchviz-0.0.3-py3-none-any.whl.metadata (2.1 kB)\n",
            "Requirement already satisfied: torch in /usr/local/lib/python3.11/dist-packages (from torchviz) (2.6.0+cu124)\n",
            "Requirement already satisfied: graphviz in /usr/local/lib/python3.11/dist-packages (from torchviz) (0.21)\n",
            "Requirement already satisfied: filelock in /usr/local/lib/python3.11/dist-packages (from torch->torchviz) (3.18.0)\n",
            "Requirement already satisfied: typing-extensions>=4.10.0 in /usr/local/lib/python3.11/dist-packages (from torch->torchviz) (4.14.0)\n",
            "Requirement already satisfied: networkx in /usr/local/lib/python3.11/dist-packages (from torch->torchviz) (3.5)\n",
            "Requirement already satisfied: jinja2 in /usr/local/lib/python3.11/dist-packages (from torch->torchviz) (3.1.6)\n",
            "Requirement already satisfied: fsspec in /usr/local/lib/python3.11/dist-packages (from torch->torchviz) (2025.3.2)\n",
            "Collecting nvidia-cuda-nvrtc-cu12==12.4.127 (from torch->torchviz)\n",
            "  Downloading nvidia_cuda_nvrtc_cu12-12.4.127-py3-none-manylinux2014_x86_64.whl.metadata (1.5 kB)\n",
            "Collecting nvidia-cuda-runtime-cu12==12.4.127 (from torch->torchviz)\n",
            "  Downloading nvidia_cuda_runtime_cu12-12.4.127-py3-none-manylinux2014_x86_64.whl.metadata (1.5 kB)\n",
            "Collecting nvidia-cuda-cupti-cu12==12.4.127 (from torch->torchviz)\n",
            "  Downloading nvidia_cuda_cupti_cu12-12.4.127-py3-none-manylinux2014_x86_64.whl.metadata (1.6 kB)\n",
            "Collecting nvidia-cudnn-cu12==9.1.0.70 (from torch->torchviz)\n",
            "  Downloading nvidia_cudnn_cu12-9.1.0.70-py3-none-manylinux2014_x86_64.whl.metadata (1.6 kB)\n",
            "Collecting nvidia-cublas-cu12==12.4.5.8 (from torch->torchviz)\n",
            "  Downloading nvidia_cublas_cu12-12.4.5.8-py3-none-manylinux2014_x86_64.whl.metadata (1.5 kB)\n",
            "Collecting nvidia-cufft-cu12==11.2.1.3 (from torch->torchviz)\n",
            "  Downloading nvidia_cufft_cu12-11.2.1.3-py3-none-manylinux2014_x86_64.whl.metadata (1.5 kB)\n",
            "Collecting nvidia-curand-cu12==10.3.5.147 (from torch->torchviz)\n",
            "  Downloading nvidia_curand_cu12-10.3.5.147-py3-none-manylinux2014_x86_64.whl.metadata (1.5 kB)\n",
            "Collecting nvidia-cusolver-cu12==11.6.1.9 (from torch->torchviz)\n",
            "  Downloading nvidia_cusolver_cu12-11.6.1.9-py3-none-manylinux2014_x86_64.whl.metadata (1.6 kB)\n",
            "Collecting nvidia-cusparse-cu12==12.3.1.170 (from torch->torchviz)\n",
            "  Downloading nvidia_cusparse_cu12-12.3.1.170-py3-none-manylinux2014_x86_64.whl.metadata (1.6 kB)\n",
            "Requirement already satisfied: nvidia-cusparselt-cu12==0.6.2 in /usr/local/lib/python3.11/dist-packages (from torch->torchviz) (0.6.2)\n",
            "Requirement already satisfied: nvidia-nccl-cu12==2.21.5 in /usr/local/lib/python3.11/dist-packages (from torch->torchviz) (2.21.5)\n",
            "Requirement already satisfied: nvidia-nvtx-cu12==12.4.127 in /usr/local/lib/python3.11/dist-packages (from torch->torchviz) (12.4.127)\n",
            "Collecting nvidia-nvjitlink-cu12==12.4.127 (from torch->torchviz)\n",
            "  Downloading nvidia_nvjitlink_cu12-12.4.127-py3-none-manylinux2014_x86_64.whl.metadata (1.5 kB)\n",
            "Requirement already satisfied: triton==3.2.0 in /usr/local/lib/python3.11/dist-packages (from torch->torchviz) (3.2.0)\n",
            "Requirement already satisfied: sympy==1.13.1 in /usr/local/lib/python3.11/dist-packages (from torch->torchviz) (1.13.1)\n",
            "Requirement already satisfied: mpmath<1.4,>=1.1.0 in /usr/local/lib/python3.11/dist-packages (from sympy==1.13.1->torch->torchviz) (1.3.0)\n",
            "Requirement already satisfied: MarkupSafe>=2.0 in /usr/local/lib/python3.11/dist-packages (from jinja2->torch->torchviz) (3.0.2)\n",
            "Downloading torchviz-0.0.3-py3-none-any.whl (5.7 kB)\n",
            "Downloading nvidia_cublas_cu12-12.4.5.8-py3-none-manylinux2014_x86_64.whl (363.4 MB)\n",
            "\u001b[2K   \u001b[90m━━━━━━━━━━━━━━━━━━━━━━━━━━━━━━━━━━━━━━━━\u001b[0m \u001b[32m363.4/363.4 MB\u001b[0m \u001b[31m3.6 MB/s\u001b[0m eta \u001b[36m0:00:00\u001b[0m\n",
            "\u001b[?25hDownloading nvidia_cuda_cupti_cu12-12.4.127-py3-none-manylinux2014_x86_64.whl (13.8 MB)\n",
            "\u001b[2K   \u001b[90m━━━━━━━━━━━━━━━━━━━━━━━━━━━━━━━━━━━━━━━━\u001b[0m \u001b[32m13.8/13.8 MB\u001b[0m \u001b[31m64.4 MB/s\u001b[0m eta \u001b[36m0:00:00\u001b[0m\n",
            "\u001b[?25hDownloading nvidia_cuda_nvrtc_cu12-12.4.127-py3-none-manylinux2014_x86_64.whl (24.6 MB)\n",
            "\u001b[2K   \u001b[90m━━━━━━━━━━━━━━━━━━━━━━━━━━━━━━━━━━━━━━━━\u001b[0m \u001b[32m24.6/24.6 MB\u001b[0m \u001b[31m35.4 MB/s\u001b[0m eta \u001b[36m0:00:00\u001b[0m\n",
            "\u001b[?25hDownloading nvidia_cuda_runtime_cu12-12.4.127-py3-none-manylinux2014_x86_64.whl (883 kB)\n",
            "\u001b[2K   \u001b[90m━━━━━━━━━━━━━━━━━━━━━━━━━━━━━━━━━━━━━━━━\u001b[0m \u001b[32m883.7/883.7 kB\u001b[0m \u001b[31m40.4 MB/s\u001b[0m eta \u001b[36m0:00:00\u001b[0m\n",
            "\u001b[?25hDownloading nvidia_cudnn_cu12-9.1.0.70-py3-none-manylinux2014_x86_64.whl (664.8 MB)\n",
            "\u001b[2K   \u001b[90m━━━━━━━━━━━━━━━━━━━━━━━━━━━━━━━━━━━━━━━━\u001b[0m \u001b[32m664.8/664.8 MB\u001b[0m \u001b[31m1.1 MB/s\u001b[0m eta \u001b[36m0:00:00\u001b[0m\n",
            "\u001b[?25hDownloading nvidia_cufft_cu12-11.2.1.3-py3-none-manylinux2014_x86_64.whl (211.5 MB)\n",
            "\u001b[2K   \u001b[90m━━━━━━━━━━━━━━━━━━━━━━━━━━━━━━━━━━━━━━━━\u001b[0m \u001b[32m211.5/211.5 MB\u001b[0m \u001b[31m4.6 MB/s\u001b[0m eta \u001b[36m0:00:00\u001b[0m\n",
            "\u001b[?25hDownloading nvidia_curand_cu12-10.3.5.147-py3-none-manylinux2014_x86_64.whl (56.3 MB)\n",
            "\u001b[2K   \u001b[90m━━━━━━━━━━━━━━━━━━━━━━━━━━━━━━━━━━━━━━━━\u001b[0m \u001b[32m56.3/56.3 MB\u001b[0m \u001b[31m10.4 MB/s\u001b[0m eta \u001b[36m0:00:00\u001b[0m\n",
            "\u001b[?25hDownloading nvidia_cusolver_cu12-11.6.1.9-py3-none-manylinux2014_x86_64.whl (127.9 MB)\n",
            "\u001b[2K   \u001b[90m━━━━━━━━━━━━━━━━━━━━━━━━━━━━━━━━━━━━━━━━\u001b[0m \u001b[32m127.9/127.9 MB\u001b[0m \u001b[31m7.6 MB/s\u001b[0m eta \u001b[36m0:00:00\u001b[0m\n",
            "\u001b[?25hDownloading nvidia_cusparse_cu12-12.3.1.170-py3-none-manylinux2014_x86_64.whl (207.5 MB)\n",
            "\u001b[2K   \u001b[90m━━━━━━━━━━━━━━━━━━━━━━━━━━━━━━━━━━━━━━━━\u001b[0m \u001b[32m207.5/207.5 MB\u001b[0m \u001b[31m4.7 MB/s\u001b[0m eta \u001b[36m0:00:00\u001b[0m\n",
            "\u001b[?25hDownloading nvidia_nvjitlink_cu12-12.4.127-py3-none-manylinux2014_x86_64.whl (21.1 MB)\n",
            "\u001b[2K   \u001b[90m━━━━━━━━━━━━━━━━━━━━━━━━━━━━━━━━━━━━━━━━\u001b[0m \u001b[32m21.1/21.1 MB\u001b[0m \u001b[31m81.8 MB/s\u001b[0m eta \u001b[36m0:00:00\u001b[0m\n",
            "\u001b[?25hInstalling collected packages: nvidia-nvjitlink-cu12, nvidia-curand-cu12, nvidia-cufft-cu12, nvidia-cuda-runtime-cu12, nvidia-cuda-nvrtc-cu12, nvidia-cuda-cupti-cu12, nvidia-cublas-cu12, nvidia-cusparse-cu12, nvidia-cudnn-cu12, nvidia-cusolver-cu12, torchviz\n",
            "  Attempting uninstall: nvidia-nvjitlink-cu12\n",
            "    Found existing installation: nvidia-nvjitlink-cu12 12.5.82\n",
            "    Uninstalling nvidia-nvjitlink-cu12-12.5.82:\n",
            "      Successfully uninstalled nvidia-nvjitlink-cu12-12.5.82\n",
            "  Attempting uninstall: nvidia-curand-cu12\n",
            "    Found existing installation: nvidia-curand-cu12 10.3.6.82\n",
            "    Uninstalling nvidia-curand-cu12-10.3.6.82:\n",
            "      Successfully uninstalled nvidia-curand-cu12-10.3.6.82\n",
            "  Attempting uninstall: nvidia-cufft-cu12\n",
            "    Found existing installation: nvidia-cufft-cu12 11.2.3.61\n",
            "    Uninstalling nvidia-cufft-cu12-11.2.3.61:\n",
            "      Successfully uninstalled nvidia-cufft-cu12-11.2.3.61\n",
            "  Attempting uninstall: nvidia-cuda-runtime-cu12\n",
            "    Found existing installation: nvidia-cuda-runtime-cu12 12.5.82\n",
            "    Uninstalling nvidia-cuda-runtime-cu12-12.5.82:\n",
            "      Successfully uninstalled nvidia-cuda-runtime-cu12-12.5.82\n",
            "  Attempting uninstall: nvidia-cuda-nvrtc-cu12\n",
            "    Found existing installation: nvidia-cuda-nvrtc-cu12 12.5.82\n",
            "    Uninstalling nvidia-cuda-nvrtc-cu12-12.5.82:\n",
            "      Successfully uninstalled nvidia-cuda-nvrtc-cu12-12.5.82\n",
            "  Attempting uninstall: nvidia-cuda-cupti-cu12\n",
            "    Found existing installation: nvidia-cuda-cupti-cu12 12.5.82\n",
            "    Uninstalling nvidia-cuda-cupti-cu12-12.5.82:\n",
            "      Successfully uninstalled nvidia-cuda-cupti-cu12-12.5.82\n",
            "  Attempting uninstall: nvidia-cublas-cu12\n",
            "    Found existing installation: nvidia-cublas-cu12 12.5.3.2\n",
            "    Uninstalling nvidia-cublas-cu12-12.5.3.2:\n",
            "      Successfully uninstalled nvidia-cublas-cu12-12.5.3.2\n",
            "  Attempting uninstall: nvidia-cusparse-cu12\n",
            "    Found existing installation: nvidia-cusparse-cu12 12.5.1.3\n",
            "    Uninstalling nvidia-cusparse-cu12-12.5.1.3:\n",
            "      Successfully uninstalled nvidia-cusparse-cu12-12.5.1.3\n",
            "  Attempting uninstall: nvidia-cudnn-cu12\n",
            "    Found existing installation: nvidia-cudnn-cu12 9.3.0.75\n",
            "    Uninstalling nvidia-cudnn-cu12-9.3.0.75:\n",
            "      Successfully uninstalled nvidia-cudnn-cu12-9.3.0.75\n",
            "  Attempting uninstall: nvidia-cusolver-cu12\n",
            "    Found existing installation: nvidia-cusolver-cu12 11.6.3.83\n",
            "    Uninstalling nvidia-cusolver-cu12-11.6.3.83:\n",
            "      Successfully uninstalled nvidia-cusolver-cu12-11.6.3.83\n",
            "Successfully installed nvidia-cublas-cu12-12.4.5.8 nvidia-cuda-cupti-cu12-12.4.127 nvidia-cuda-nvrtc-cu12-12.4.127 nvidia-cuda-runtime-cu12-12.4.127 nvidia-cudnn-cu12-9.1.0.70 nvidia-cufft-cu12-11.2.1.3 nvidia-curand-cu12-10.3.5.147 nvidia-cusolver-cu12-11.6.1.9 nvidia-cusparse-cu12-12.3.1.170 nvidia-nvjitlink-cu12-12.4.127 torchviz-0.0.3\n"
          ]
        }
      ]
    },
    {
      "cell_type": "markdown",
      "source": [],
      "metadata": {
        "id": "05GdyuIVWm3W"
      }
    },
    {
      "cell_type": "code",
      "source": [
        "x=torch.tensor([1.],requires_grad=True)\n",
        "make_dot(x**2)"
      ],
      "metadata": {
        "id": "3Kpt3Y9phaTh",
        "outputId": "86b1c995-eeec-42f3-f9dc-0ce04dd1ab56",
        "colab": {
          "base_uri": "https://localhost:8080/",
          "height": 310
        }
      },
      "execution_count": 129,
      "outputs": [
        {
          "output_type": "execute_result",
          "data": {
            "image/svg+xml": "<?xml version=\"1.0\" encoding=\"UTF-8\" standalone=\"no\"?>\n<!DOCTYPE svg PUBLIC \"-//W3C//DTD SVG 1.1//EN\"\n \"http://www.w3.org/Graphics/SVG/1.1/DTD/svg11.dtd\">\n<!-- Generated by graphviz version 2.43.0 (0)\n -->\n<!-- Title: %3 Pages: 1 -->\n<svg width=\"109pt\" height=\"216pt\"\n viewBox=\"0.00 0.00 109.00 216.00\" xmlns=\"http://www.w3.org/2000/svg\" xmlns:xlink=\"http://www.w3.org/1999/xlink\">\n<g id=\"graph0\" class=\"graph\" transform=\"scale(1 1) rotate(0) translate(4 212)\">\n<title>%3</title>\n<polygon fill=\"white\" stroke=\"transparent\" points=\"-4,4 -4,-212 105,-212 105,4 -4,4\"/>\n<!-- 138568827071440 -->\n<g id=\"node1\" class=\"node\">\n<title>138568827071440</title>\n<polygon fill=\"#caff70\" stroke=\"black\" points=\"77.5,-31 23.5,-31 23.5,0 77.5,0 77.5,-31\"/>\n<text text-anchor=\"middle\" x=\"50.5\" y=\"-7\" font-family=\"monospace\" font-size=\"10.00\"> (1)</text>\n</g>\n<!-- 138568837124864 -->\n<g id=\"node2\" class=\"node\">\n<title>138568837124864</title>\n<polygon fill=\"lightgrey\" stroke=\"black\" points=\"95,-86 6,-86 6,-67 95,-67 95,-86\"/>\n<text text-anchor=\"middle\" x=\"50.5\" y=\"-74\" font-family=\"monospace\" font-size=\"10.00\">PowBackward0</text>\n</g>\n<!-- 138568837124864&#45;&gt;138568827071440 -->\n<g id=\"edge3\" class=\"edge\">\n<title>138568837124864&#45;&gt;138568827071440</title>\n<path fill=\"none\" stroke=\"black\" d=\"M50.5,-66.79C50.5,-60.07 50.5,-50.4 50.5,-41.34\"/>\n<polygon fill=\"black\" stroke=\"black\" points=\"54,-41.19 50.5,-31.19 47,-41.19 54,-41.19\"/>\n</g>\n<!-- 138568837130192 -->\n<g id=\"node3\" class=\"node\">\n<title>138568837130192</title>\n<polygon fill=\"lightgrey\" stroke=\"black\" points=\"101,-141 0,-141 0,-122 101,-122 101,-141\"/>\n<text text-anchor=\"middle\" x=\"50.5\" y=\"-129\" font-family=\"monospace\" font-size=\"10.00\">AccumulateGrad</text>\n</g>\n<!-- 138568837130192&#45;&gt;138568837124864 -->\n<g id=\"edge1\" class=\"edge\">\n<title>138568837130192&#45;&gt;138568837124864</title>\n<path fill=\"none\" stroke=\"black\" d=\"M50.5,-121.75C50.5,-114.8 50.5,-104.85 50.5,-96.13\"/>\n<polygon fill=\"black\" stroke=\"black\" points=\"54,-96.09 50.5,-86.09 47,-96.09 54,-96.09\"/>\n</g>\n<!-- 138568827062128 -->\n<g id=\"node4\" class=\"node\">\n<title>138568827062128</title>\n<polygon fill=\"lightblue\" stroke=\"black\" points=\"77.5,-208 23.5,-208 23.5,-177 77.5,-177 77.5,-208\"/>\n<text text-anchor=\"middle\" x=\"50.5\" y=\"-184\" font-family=\"monospace\" font-size=\"10.00\"> (1)</text>\n</g>\n<!-- 138568827062128&#45;&gt;138568837130192 -->\n<g id=\"edge2\" class=\"edge\">\n<title>138568827062128&#45;&gt;138568837130192</title>\n<path fill=\"none\" stroke=\"black\" d=\"M50.5,-176.92C50.5,-169.22 50.5,-159.69 50.5,-151.43\"/>\n<polygon fill=\"black\" stroke=\"black\" points=\"54,-151.25 50.5,-141.25 47,-151.25 54,-151.25\"/>\n</g>\n</g>\n</svg>\n",
            "text/plain": [
              "<graphviz.graphs.Digraph at 0x7e0711991a10>"
            ]
          },
          "metadata": {},
          "execution_count": 129
        }
      ]
    },
    {
      "cell_type": "markdown",
      "source": [],
      "metadata": {
        "id": "WGczP6h3MRPD"
      }
    },
    {
      "cell_type": "code",
      "source": [
        "x=torch.tensor([1.],requires_grad=True)\n",
        "make_dot((x**2+1)**2)\n",
        "y=2*x\n",
        "z=3+x\n",
        "r=y+z\n",
        "make_dot(r)"
      ],
      "metadata": {
        "id": "9cmqGLSlh-B1",
        "outputId": "ff3684da-d9cf-4eb2-f42b-d7597b53cb2c",
        "colab": {
          "base_uri": "https://localhost:8080/",
          "height": 383
        }
      },
      "execution_count": 131,
      "outputs": [
        {
          "output_type": "execute_result",
          "data": {
            "image/svg+xml": "<?xml version=\"1.0\" encoding=\"UTF-8\" standalone=\"no\"?>\n<!DOCTYPE svg PUBLIC \"-//W3C//DTD SVG 1.1//EN\"\n \"http://www.w3.org/Graphics/SVG/1.1/DTD/svg11.dtd\">\n<!-- Generated by graphviz version 2.43.0 (0)\n -->\n<!-- Title: %3 Pages: 1 -->\n<svg width=\"204pt\" height=\"271pt\"\n viewBox=\"0.00 0.00 204.00 271.00\" xmlns=\"http://www.w3.org/2000/svg\" xmlns:xlink=\"http://www.w3.org/1999/xlink\">\n<g id=\"graph0\" class=\"graph\" transform=\"scale(1 1) rotate(0) translate(4 267)\">\n<title>%3</title>\n<polygon fill=\"white\" stroke=\"transparent\" points=\"-4,4 -4,-267 200,-267 200,4 -4,4\"/>\n<!-- 138568825998800 -->\n<g id=\"node1\" class=\"node\">\n<title>138568825998800</title>\n<polygon fill=\"#caff70\" stroke=\"black\" points=\"124.5,-31 70.5,-31 70.5,0 124.5,0 124.5,-31\"/>\n<text text-anchor=\"middle\" x=\"97.5\" y=\"-7\" font-family=\"monospace\" font-size=\"10.00\"> (1)</text>\n</g>\n<!-- 138568837538976 -->\n<g id=\"node2\" class=\"node\">\n<title>138568837538976</title>\n<polygon fill=\"lightgrey\" stroke=\"black\" points=\"142,-86 53,-86 53,-67 142,-67 142,-86\"/>\n<text text-anchor=\"middle\" x=\"97.5\" y=\"-74\" font-family=\"monospace\" font-size=\"10.00\">AddBackward0</text>\n</g>\n<!-- 138568837538976&#45;&gt;138568825998800 -->\n<g id=\"edge6\" class=\"edge\">\n<title>138568837538976&#45;&gt;138568825998800</title>\n<path fill=\"none\" stroke=\"black\" d=\"M97.5,-66.79C97.5,-60.07 97.5,-50.4 97.5,-41.34\"/>\n<polygon fill=\"black\" stroke=\"black\" points=\"101,-41.19 97.5,-31.19 94,-41.19 101,-41.19\"/>\n</g>\n<!-- 138568837532976 -->\n<g id=\"node3\" class=\"node\">\n<title>138568837532976</title>\n<polygon fill=\"lightgrey\" stroke=\"black\" points=\"89,-141 0,-141 0,-122 89,-122 89,-141\"/>\n<text text-anchor=\"middle\" x=\"44.5\" y=\"-129\" font-family=\"monospace\" font-size=\"10.00\">MulBackward0</text>\n</g>\n<!-- 138568837532976&#45;&gt;138568837538976 -->\n<g id=\"edge1\" class=\"edge\">\n<title>138568837532976&#45;&gt;138568837538976</title>\n<path fill=\"none\" stroke=\"black\" d=\"M53.25,-121.75C60.97,-114.03 72.4,-102.6 81.72,-93.28\"/>\n<polygon fill=\"black\" stroke=\"black\" points=\"84.31,-95.64 88.91,-86.09 79.36,-90.69 84.31,-95.64\"/>\n</g>\n<!-- 138568837535952 -->\n<g id=\"node4\" class=\"node\">\n<title>138568837535952</title>\n<polygon fill=\"lightgrey\" stroke=\"black\" points=\"148,-196 47,-196 47,-177 148,-177 148,-196\"/>\n<text text-anchor=\"middle\" x=\"97.5\" y=\"-184\" font-family=\"monospace\" font-size=\"10.00\">AccumulateGrad</text>\n</g>\n<!-- 138568837535952&#45;&gt;138568837532976 -->\n<g id=\"edge2\" class=\"edge\">\n<title>138568837535952&#45;&gt;138568837532976</title>\n<path fill=\"none\" stroke=\"black\" d=\"M88.75,-176.75C81.03,-169.03 69.6,-157.6 60.28,-148.28\"/>\n<polygon fill=\"black\" stroke=\"black\" points=\"62.64,-145.69 53.09,-141.09 57.69,-150.64 62.64,-145.69\"/>\n</g>\n<!-- 138568837132496 -->\n<g id=\"node6\" class=\"node\">\n<title>138568837132496</title>\n<polygon fill=\"lightgrey\" stroke=\"black\" points=\"196,-141 107,-141 107,-122 196,-122 196,-141\"/>\n<text text-anchor=\"middle\" x=\"151.5\" y=\"-129\" font-family=\"monospace\" font-size=\"10.00\">AddBackward0</text>\n</g>\n<!-- 138568837535952&#45;&gt;138568837132496 -->\n<g id=\"edge5\" class=\"edge\">\n<title>138568837535952&#45;&gt;138568837132496</title>\n<path fill=\"none\" stroke=\"black\" d=\"M106.42,-176.75C114.28,-169.03 125.93,-157.6 135.42,-148.28\"/>\n<polygon fill=\"black\" stroke=\"black\" points=\"138.06,-150.59 142.75,-141.09 133.16,-145.6 138.06,-150.59\"/>\n</g>\n<!-- 138568827069232 -->\n<g id=\"node5\" class=\"node\">\n<title>138568827069232</title>\n<polygon fill=\"lightblue\" stroke=\"black\" points=\"124.5,-263 70.5,-263 70.5,-232 124.5,-232 124.5,-263\"/>\n<text text-anchor=\"middle\" x=\"97.5\" y=\"-239\" font-family=\"monospace\" font-size=\"10.00\"> (1)</text>\n</g>\n<!-- 138568827069232&#45;&gt;138568837535952 -->\n<g id=\"edge3\" class=\"edge\">\n<title>138568827069232&#45;&gt;138568837535952</title>\n<path fill=\"none\" stroke=\"black\" d=\"M97.5,-231.92C97.5,-224.22 97.5,-214.69 97.5,-206.43\"/>\n<polygon fill=\"black\" stroke=\"black\" points=\"101,-206.25 97.5,-196.25 94,-206.25 101,-206.25\"/>\n</g>\n<!-- 138568837132496&#45;&gt;138568837538976 -->\n<g id=\"edge4\" class=\"edge\">\n<title>138568837132496&#45;&gt;138568837538976</title>\n<path fill=\"none\" stroke=\"black\" d=\"M142.58,-121.75C134.72,-114.03 123.07,-102.6 113.58,-93.28\"/>\n<polygon fill=\"black\" stroke=\"black\" points=\"115.84,-90.6 106.25,-86.09 110.94,-95.59 115.84,-90.6\"/>\n</g>\n</g>\n</svg>\n",
            "text/plain": [
              "<graphviz.graphs.Digraph at 0x7e0711be8190>"
            ]
          },
          "metadata": {},
          "execution_count": 131
        }
      ]
    },
    {
      "cell_type": "code",
      "source": [
        "r.backward()\n",
        "print(x.grad)"
      ],
      "metadata": {
        "id": "5l1urfc4iGwf",
        "outputId": "87898554-20d3-4200-8115-784fe1dca7e2",
        "colab": {
          "base_uri": "https://localhost:8080/"
        }
      },
      "execution_count": 132,
      "outputs": [
        {
          "output_type": "stream",
          "name": "stdout",
          "text": [
            "tensor([3.])\n"
          ]
        }
      ]
    },
    {
      "cell_type": "markdown",
      "metadata": {
        "id": "UdRyKR44dcNI"
      },
      "source": [
        "<div class=\"markdown-google-sans\">\n",
        "\n",
        "## 데이터 과학\n",
        "</div>\n",
        "\n",
        "Colab을 통해 인기 있는 Python 라이브러리를 최대한 활용하여 데이터를 분석하고 시각화할 수 있습니다. 아래 코드 셀에서는 <strong>Numpy</strong>를 사용하여 임의의 데이터를 생성하고 <strong>매트플롯립</strong>으로 이를 시각화합니다. 셀을 클릭하면 코드 수정을 바로 시작할 수 있습니다."
      ]
    },
    {
      "cell_type": "markdown",
      "metadata": {
        "id": "4_kCnsPUqS6o"
      },
      "source": [
        "Google Drive 계정에서 스프레드시트를 비롯한 데이터를 Colab 메모장으로 가져오거나 GitHub 등의 여러 다른 소스에서 데이터를 가져올 수 있습니다. Colab을 데이터 과학에 활용하는 방법과 데이터 가져오기에 관해 자세히 알아보려면 <a href=\"#working-with-data\">데이터 사용하기</a> 아래 링크를 참조하세요."
      ]
    },
    {
      "cell_type": "code",
      "execution_count": null,
      "metadata": {
        "colab": {
          "height": 249
        },
        "id": "C4HZx7Gndbrh",
        "outputId": "65838ba2-0ea9-41b7-e3f9-a725be449d3b"
      },
      "outputs": [
        {
          "data": {
            "text/markdown": [
              "![Sample Visualization](data:image/png;base64,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)"
            ],
            "text/plain": [
              "<IPython.core.display.Markdown object>"
            ]
          },
          "metadata": {},
          "output_type": "display_data"
        }
      ],
      "source": [
        "import numpy as np\n",
        "import IPython.display as display\n",
        "from matplotlib import pyplot as plt\n",
        "import io\n",
        "import base64\n",
        "\n",
        "ys = 200 + np.random.randn(100)\n",
        "x = [x for x in range(len(ys))]\n",
        "\n",
        "fig = plt.figure(figsize=(4, 3), facecolor='w')\n",
        "plt.plot(x, ys, '-')\n",
        "plt.fill_between(x, ys, 195, where=(ys > 195), facecolor='g', alpha=0.6)\n",
        "plt.title(\"Sample Visualization\", fontsize=10)\n",
        "\n",
        "data = io.BytesIO()\n",
        "plt.savefig(data)\n",
        "image = F\"data:image/png;base64,{base64.b64encode(data.getvalue()).decode()}\"\n",
        "alt = \"Sample Visualization\"\n",
        "display.display(display.Markdown(F\"\"\"![{alt}]({image})\"\"\"))\n",
        "plt.close(fig)"
      ]
    },
    {
      "cell_type": "markdown",
      "metadata": {
        "id": "VYV91hbKwP2J"
      },
      "source": [
        "Colab 노트북은 Google 클라우드 서버에서 코드를 실행하므로 사용 중인 컴퓨터 성능과 관계없이 <a href=\"#using-accelerated-hardware\">GPU 및 TPU</a>를 포함한 Google 하드웨어 성능을 활용할 수 있습니다. 브라우저만 있으면 사용 가능합니다.\n",
        "\n",
        "예를 들어 <strong>Pandas</strong> 코드의 실행이 완료되기를 기다리고 있는데 더 빠르게 실행하고 싶다면 GPU 런타임으로 전환하고 코드를 변경하지 않고도 가속할 수 있는 <a href=\"https://rapids.ai/cudf-pandas\">RAPIDS cuDF</a>와 같은 라이브러리를 사용할 수 있습니다."
      ]
    },
    {
      "cell_type": "markdown",
      "metadata": {
        "id": "vwnNlNIEwoZ8"
      },
      "source": [
        "Colab에서 Pandas를 가속하는 방법을 자세히 알아보려면 <a href=\"https://colab.research.google.com/github/rapidsai-community/showcase/blob/main/getting_started_tutorials/cudf_pandas_colab_demo.ipynb\">10분 가이드</a> 또는 <a href=\"https://colab.research.google.com/github/rapidsai-community/showcase/blob/main/getting_started_tutorials/cudf_pandas_stocks_demo.ipynb\">미국 주식 시장 데이터 분석 데모</a>를 참고하세요."
      ]
    },
    {
      "cell_type": "markdown",
      "metadata": {
        "id": "OwuxHmxllTwN"
      },
      "source": [
        "<div class=\"markdown-google-sans\">\n",
        "\n",
        "## 머신러닝\n",
        "</div>\n",
        "\n",
        "Colab을 사용하면 <a href=\"https://colab.research.google.com/github/tensorflow/docs/blob/master/site/en/tutorials/quickstart/beginner.ipynb\">코드 몇 줄만으로</a> 이미지 데이터 세트를 가져오고, 이 데이터 세트로 이미지 분류기를 학습시키며, 모델을 평가할 수 있습니다."
      ]
    },
    {
      "cell_type": "markdown",
      "metadata": {
        "id": "ufxBm1yRnruN"
      },
      "source": [
        "Colab은 다음과 같은 분야의 머신러닝 커뮤니티에서 널리 쓰이고 있습니다.\n",
        "- TensorFlow 시작하기\n",
        "- 신경망 개발 및 학습시키기\n",
        "- TPU로 실험하기\n",
        "- AI 연구 보급하기\n",
        "- 튜토리얼 만들기\n",
        "\n",
        "머신러닝 적용 사례를 보여 주는 Colab 메모장 샘플을 확인하려면 아래 <a href=\"#machine-learning-examples\">머신러닝 예시</a>를 참조하세요."
      ]
    },
    {
      "cell_type": "markdown",
      "metadata": {
        "id": "-Rh3-Vt9Nev9"
      },
      "source": [
        "<div class=\"markdown-google-sans\">\n",
        "\n",
        "## 추가 리소스\n",
        "\n",
        "### Colab에서 메모장 사용하기\n",
        "\n",
        "</div>\n",
        "\n",
        "- [Colab 개요](/notebooks/basic_features_overview.ipynb)\n",
        "- [Markdown 가이드](/notebooks/markdown_guide.ipynb)\n",
        "- [라이브러리 가져오기 및 종속 항목 설치하기](/notebooks/snippets/importing_libraries.ipynb)\n",
        "- [GitHub에서 노트 저장 및 로드하기](https://colab.research.google.com/github/googlecolab/colabtools/blob/main/notebooks/colab-github-demo.ipynb)\n",
        "- [대화형 양식](/notebooks/forms.ipynb)\n",
        "- [대화형 위젯](/notebooks/widgets.ipynb)\n",
        "\n",
        "<div class=\"markdown-google-sans\">\n",
        "\n",
        "<a name=\"working-with-data\"></a>\n",
        "### 데이터로 작업하기\n",
        "</div>\n",
        "\n",
        "- [데이터 로드: 드라이브, 스프레드시트, Google Cloud Storage](/notebooks/io.ipynb)\n",
        "- [차트: 데이터 시각화하기](/notebooks/charts.ipynb)\n",
        "- [BigQuery 시작하기](/notebooks/bigquery.ipynb)\n",
        "\n",
        "<div class=\"markdown-google-sans\">\n",
        "\n",
        "### 머신러닝\n",
        "\n",
        "<div>\n",
        "\n",
        "Google의 온라인 머신러닝 과정을 비롯해 머신러닝과 관련된 일부 노트북입니다. 자세한 내용은 <a href=\"https://developers.google.com/machine-learning/crash-course/\">전체 과정 웹사이트</a>를 참고하세요.\n",
        "- [Pandas DataFrame 소개](https://colab.research.google.com/github/google/eng-edu/blob/main/ml/cc/exercises/pandas_dataframe_ultraquick_tutorial.ipynb)\n",
        "- [Pandas를 가속화하는 RAPIDS cuDF 소개](https://nvda.ws/rapids-cudf)\n",
        "- [cuML의 가속기 모드 시작하기](https://colab.research.google.com/github/rapidsai-community/showcase/blob/main/getting_started_tutorials/cuml_sklearn_colab_demo.ipynb)\n",
        "- [합성 데이터를 사용하는 tf.keras 선형 회귀](https://colab.research.google.com/github/google/eng-edu/blob/main/ml/cc/exercises/linear_regression_with_synthetic_data.ipynb)\n",
        "\n",
        "<div class=\"markdown-google-sans\">\n",
        "\n",
        "<a name=\"using-accelerated-hardware\"></a>\n",
        "### 가속 하드웨어 사용하기\n",
        "</div>\n",
        "\n",
        "- [GPU를 사용한 TensorFlow](/notebooks/gpu.ipynb)\n",
        "- [Colab의 TPU](/notebooks/tpu.ipynb)"
      ]
    },
    {
      "cell_type": "markdown",
      "metadata": {
        "id": "P-H6Lw1vyNNd"
      },
      "source": [
        "<div class=\"markdown-google-sans\">\n",
        "\n",
        "<a name=\"machine-learning-examples\"></a>\n",
        "\n",
        "### 추천 예시\n",
        "\n",
        "</div>\n",
        "\n",
        "- <a href=\"https://tensorflow.org/hub/tutorials/tf2_image_retraining\">이미지 분류기 재훈련</a>: 사전에 훈련된 이미지 분류기를 기반으로 꽃을 분류하기 위한 Keras 모델을 구축합니다.\n",
        "- <a href=\"https://tensorflow.org/hub/tutorials/tf2_text_classification\">텍스트 분류</a>: IMDB 영화 리뷰를 <em>긍정적인 리뷰</em> 또는 <em>부정적인 리뷰</em>로 분류합니다.\n",
        "- <a href=\"https://tensorflow.org/hub/tutorials/tf2_arbitrary_image_stylization\">스타일 트랜스퍼</a>: 딥 러닝을 사용하여 이미지 간에 스타일을 전이시킵니다.\n",
        "- <a href=\"https://tensorflow.org/hub/tutorials/retrieval_with_tf_hub_universal_encoder_qa\">Multilingual Universal Sentence Encoder Q&amp;A</a>: 머신러닝 모델을 사용하여 SQuAD 데이터 세트의 질문에 답변합니다.\n",
        "- <a href=\"https://tensorflow.org/hub/tutorials/tweening_conv3d\">동영상 보간 유형</a>: 동영상에서 첫 프레임과 마지막 프레임 사이에 발생한 내용을 예측합니다.\n"
      ]
    }
  ],
  "metadata": {
    "colab": {
      "name": "Colab 시작하기",
      "provenance": [],
      "include_colab_link": true
    },
    "kernelspec": {
      "display_name": "Python 3",
      "name": "python3"
    }
  },
  "nbformat": 4,
  "nbformat_minor": 0
}